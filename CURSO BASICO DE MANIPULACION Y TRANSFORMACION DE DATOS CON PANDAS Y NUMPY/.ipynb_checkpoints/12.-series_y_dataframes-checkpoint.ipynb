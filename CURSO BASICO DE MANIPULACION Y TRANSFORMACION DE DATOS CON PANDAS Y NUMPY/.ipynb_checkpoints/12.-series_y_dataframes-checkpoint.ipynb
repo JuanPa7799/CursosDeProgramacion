{
 "cells": [
  {
   "cell_type": "code",
   "execution_count": 1,
   "id": "d669c992",
   "metadata": {},
   "outputs": [],
   "source": [
    "import pandas as pd"
   ]
  },
  {
   "cell_type": "code",
   "execution_count": 3,
   "id": "69327014",
   "metadata": {},
   "outputs": [],
   "source": [
    "psg_players = pd.Series(['Navas', 'Mbappe', 'Neymar', 'Messi'], index=[1,7,10,30])"
   ]
  },
  {
   "cell_type": "code",
   "execution_count": 4,
   "id": "c5e70770",
   "metadata": {},
   "outputs": [
    {
     "data": {
      "text/plain": [
       "1      Navas\n",
       "7     Mbappe\n",
       "10    Neymar\n",
       "30     Messi\n",
       "dtype: object"
      ]
     },
     "execution_count": 4,
     "metadata": {},
     "output_type": "execute_result"
    }
   ],
   "source": [
    "psg_players"
   ]
  },
  {
   "cell_type": "code",
   "execution_count": 16,
   "id": "ff38e4b8",
   "metadata": {},
   "outputs": [],
   "source": [
    "psg_players=pd.Series(['Navas', 'Mbappe', 'Neymar', 'Messi'])"
   ]
  },
  {
   "cell_type": "code",
   "execution_count": 22,
   "id": "3a9b4769",
   "metadata": {},
   "outputs": [
    {
     "data": {
      "text/plain": [
       "1      Navas\n",
       "8     Mbappe\n",
       "10    Neymar\n",
       "30     Messi\n",
       "dtype: object"
      ]
     },
     "execution_count": 22,
     "metadata": {},
     "output_type": "execute_result"
    }
   ],
   "source": [
    "dict = {1:'Navas', 8: 'Mbappe', 10:'Neymar', 30:'Messi'}\n",
    "pd.Series(dict)"
   ]
  },
  {
   "cell_type": "code",
   "execution_count": 9,
   "id": "c067f7ac",
   "metadata": {},
   "outputs": [
    {
     "data": {
      "text/plain": [
       "{1: 'Navas', 8: 'Mbappe', 10: 'Neymar', 30: 'Messi'}"
      ]
     },
     "execution_count": 9,
     "metadata": {},
     "output_type": "execute_result"
    }
   ],
   "source": [
    "dict"
   ]
  },
  {
   "cell_type": "code",
   "execution_count": 17,
   "id": "97f6b00a",
   "metadata": {},
   "outputs": [
    {
     "data": {
      "text/plain": [
       "0     Navas\n",
       "1    Mbappe\n",
       "2    Neymar\n",
       "dtype: object"
      ]
     },
     "execution_count": 17,
     "metadata": {},
     "output_type": "execute_result"
    }
   ],
   "source": [
    "psg_players[0:3]"
   ]
  },
  {
   "cell_type": "code",
   "execution_count": 23,
   "id": "14b17b19",
   "metadata": {},
   "outputs": [],
   "source": [
    "dict ={'Jugador':['Navas', 'Mbappe', 'Neymar', 'Messi'],\n",
    " 'Altura': [183.0, 170.0,170.0,165.0],\n",
    " 'Goles': [2, 200, 200, 200]}"
   ]
  },
  {
   "cell_type": "code",
   "execution_count": 31,
   "id": "0e6078e5",
   "metadata": {},
   "outputs": [],
   "source": [
    "df_players = pd.DataFrame(dict, index = [1,7,10,30])"
   ]
  },
  {
   "cell_type": "code",
   "execution_count": 32,
   "id": "29404339",
   "metadata": {},
   "outputs": [
    {
     "data": {
      "text/plain": [
       "Index(['Jugador', 'Altura', 'Goles'], dtype='object')"
      ]
     },
     "execution_count": 32,
     "metadata": {},
     "output_type": "execute_result"
    }
   ],
   "source": [
    "df_players.columns"
   ]
  },
  {
   "cell_type": "code",
   "execution_count": 33,
   "id": "93140da3",
   "metadata": {},
   "outputs": [
    {
     "data": {
      "text/plain": [
       "Int64Index([1, 7, 10, 30], dtype='int64')"
      ]
     },
     "execution_count": 33,
     "metadata": {},
     "output_type": "execute_result"
    }
   ],
   "source": [
    "df_players.index"
   ]
  },
  {
   "cell_type": "code",
   "execution_count": null,
   "id": "4b3a6add",
   "metadata": {},
   "outputs": [],
   "source": []
  }
 ],
 "metadata": {
  "kernelspec": {
   "display_name": "Python 3 (ipykernel)",
   "language": "python",
   "name": "python3"
  },
  "language_info": {
   "codemirror_mode": {
    "name": "ipython",
    "version": 3
   },
   "file_extension": ".py",
   "mimetype": "text/x-python",
   "name": "python",
   "nbconvert_exporter": "python",
   "pygments_lexer": "ipython3",
   "version": "3.9.12"
  }
 },
 "nbformat": 4,
 "nbformat_minor": 5
}
