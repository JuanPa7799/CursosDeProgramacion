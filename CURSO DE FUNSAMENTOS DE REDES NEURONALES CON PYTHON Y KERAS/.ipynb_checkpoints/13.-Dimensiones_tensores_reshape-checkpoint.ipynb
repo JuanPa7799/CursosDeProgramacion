{
 "cells": [
  {
   "cell_type": "code",
   "execution_count": 1,
   "metadata": {
    "executionInfo": {
     "elapsed": 22,
     "status": "ok",
     "timestamp": 1665150168891,
     "user": {
      "displayName": "Juan Pablo García Chávez",
      "userId": "12912352804961269808"
     },
     "user_tz": 300
    },
    "id": "l11OBlHernlo"
   },
   "outputs": [],
   "source": [
    "import numpy as np"
   ]
  },
  {
   "cell_type": "markdown",
   "metadata": {
    "id": "4yVoMGlYr2dQ"
   },
   "source": [
    "### SCALAR"
   ]
  },
  {
   "cell_type": "code",
   "execution_count": 4,
   "metadata": {
    "colab": {
     "base_uri": "https://localhost:8080/"
    },
    "executionInfo": {
     "elapsed": 210,
     "status": "ok",
     "timestamp": 1665150233745,
     "user": {
      "displayName": "Juan Pablo García Chávez",
      "userId": "12912352804961269808"
     },
     "user_tz": 300
    },
    "id": "r80C8EtgrxAD",
    "outputId": "de5b3ffa-1b51-414b-b78d-bb23aa0e7947"
   },
   "outputs": [
    {
     "name": "stdout",
     "output_type": "stream",
     "text": [
      "()\n"
     ]
    },
    {
     "data": {
      "text/plain": [
       "0"
      ]
     },
     "execution_count": 4,
     "metadata": {},
     "output_type": "execute_result"
    }
   ],
   "source": [
    "x=np.array(42)\n",
    "print(x.shape)\n",
    "x.ndim"
   ]
  },
  {
   "cell_type": "code",
   "execution_count": 6,
   "metadata": {
    "colab": {
     "base_uri": "https://localhost:8080/"
    },
    "executionInfo": {
     "elapsed": 208,
     "status": "ok",
     "timestamp": 1665150290169,
     "user": {
      "displayName": "Juan Pablo García Chávez",
      "userId": "12912352804961269808"
     },
     "user_tz": 300
    },
    "id": "9fO7oenHr8FU",
    "outputId": "04682e02-e766-4e2c-b271-63d9d58f9a51"
   },
   "outputs": [
    {
     "name": "stdout",
     "output_type": "stream",
     "text": [
      "(6,)\n"
     ]
    },
    {
     "data": {
      "text/plain": [
       "1"
      ]
     },
     "execution_count": 6,
     "metadata": {},
     "output_type": "execute_result"
    }
   ],
   "source": [
    "x_vetor=np.array([42,3,5,3,6,7])\n",
    "print(x_vetor.shape)\n",
    "x_vetor.ndim"
   ]
  },
  {
   "cell_type": "markdown",
   "metadata": {
    "id": "msu3PA-NsUSs"
   },
   "source": [
    " ### MATRIZ"
   ]
  },
  {
   "cell_type": "code",
   "execution_count": 9,
   "metadata": {
    "colab": {
     "base_uri": "https://localhost:8080/"
    },
    "executionInfo": {
     "elapsed": 211,
     "status": "ok",
     "timestamp": 1665150409774,
     "user": {
      "displayName": "Juan Pablo García Chávez",
      "userId": "12912352804961269808"
     },
     "user_tz": 300
    },
    "id": "-8P9hXfnsL7Z",
    "outputId": "53f607df-7d66-4ecc-b482-63913864786e"
   },
   "outputs": [
    {
     "name": "stdout",
     "output_type": "stream",
     "text": [
      "(2, 6)\n"
     ]
    },
    {
     "data": {
      "text/plain": [
       "2"
      ]
     },
     "execution_count": 9,
     "metadata": {},
     "output_type": "execute_result"
    }
   ],
   "source": [
    "x_matriz=np.array([[42,3,5,3,6,7],\n",
    "                  [42,3,5,3,6,7]])\n",
    "print(x_matriz.shape)\n",
    "x_matriz.ndim"
   ]
  },
  {
   "cell_type": "markdown",
   "metadata": {
    "id": "sQxNUBGnswCB"
   },
   "source": [
    "### TENSOR"
   ]
  },
  {
   "cell_type": "code",
   "execution_count": 10,
   "metadata": {
    "colab": {
     "base_uri": "https://localhost:8080/"
    },
    "executionInfo": {
     "elapsed": 282,
     "status": "ok",
     "timestamp": 1665150498882,
     "user": {
      "displayName": "Juan Pablo García Chávez",
      "userId": "12912352804961269808"
     },
     "user_tz": 300
    },
    "id": "_5XGP2GXskcr",
    "outputId": "1561fddb-bf05-460e-fa29-fd5dd9ad331f"
   },
   "outputs": [
    {
     "name": "stdout",
     "output_type": "stream",
     "text": [
      "(3, 2, 6)\n"
     ]
    },
    {
     "data": {
      "text/plain": [
       "3"
      ]
     },
     "execution_count": 10,
     "metadata": {},
     "output_type": "execute_result"
    }
   ],
   "source": [
    "x_tensor=np.array([[[42,3,5,3,6,7],\n",
    "                  [42,3,5,3,6,7]],\n",
    "                  [[42,3,5,3,6,7],\n",
    "                  [42,3,5,3,6,7]],\n",
    "                  [[42,3,5,3,6,7],\n",
    "                  [42,3,5,3,6,7]]])\n",
    "print(x_tensor.shape)\n",
    "x_tensor.ndim"
   ]
  },
  {
   "cell_type": "markdown",
   "metadata": {
    "id": "25xclBX0tMGh"
   },
   "source": [
    "### RESHAPE"
   ]
  },
  {
   "cell_type": "code",
   "execution_count": 12,
   "metadata": {
    "colab": {
     "base_uri": "https://localhost:8080/"
    },
    "executionInfo": {
     "elapsed": 36,
     "status": "ok",
     "timestamp": 1665150706938,
     "user": {
      "displayName": "Juan Pablo García Chávez",
      "userId": "12912352804961269808"
     },
     "user_tz": 300
    },
    "id": "GetEh22ttDQm",
    "outputId": "145b1002-b1aa-4709-a74e-edfa2d7b2163"
   },
   "outputs": [
    {
     "data": {
      "text/plain": [
       "(4, 2)"
      ]
     },
     "execution_count": 12,
     "metadata": {},
     "output_type": "execute_result"
    }
   ],
   "source": [
    "x_rshp=np.array([[0,1],\n",
    "          [2,3],\n",
    "          [4,5],\n",
    "          [6,7]])\n",
    "x_rshp.shape"
   ]
  },
  {
   "cell_type": "code",
   "execution_count": 15,
   "metadata": {
    "colab": {
     "base_uri": "https://localhost:8080/"
    },
    "executionInfo": {
     "elapsed": 45,
     "status": "ok",
     "timestamp": 1665150763557,
     "user": {
      "displayName": "Juan Pablo García Chávez",
      "userId": "12912352804961269808"
     },
     "user_tz": 300
    },
    "id": "FJPQwZzeuBpi",
    "outputId": "ee66630e-453d-4f57-faec-f6d5c80116ec"
   },
   "outputs": [
    {
     "data": {
      "text/plain": [
       "array([[0],\n",
       "       [1],\n",
       "       [2],\n",
       "       [3],\n",
       "       [4],\n",
       "       [5],\n",
       "       [6],\n",
       "       [7]])"
      ]
     },
     "execution_count": 15,
     "metadata": {},
     "output_type": "execute_result"
    }
   ],
   "source": [
    "x_rshp.reshape(8,1)"
   ]
  },
  {
   "cell_type": "code",
   "execution_count": 16,
   "metadata": {
    "colab": {
     "base_uri": "https://localhost:8080/"
    },
    "executionInfo": {
     "elapsed": 35,
     "status": "ok",
     "timestamp": 1665150763782,
     "user": {
      "displayName": "Juan Pablo García Chávez",
      "userId": "12912352804961269808"
     },
     "user_tz": 300
    },
    "id": "76ra5OnJtYM4",
    "outputId": "fda7a7cf-e7d5-4e3a-c2da-fec6a693c7dc"
   },
   "outputs": [
    {
     "data": {
      "text/plain": [
       "array([[0, 1, 2, 3],\n",
       "       [4, 5, 6, 7]])"
      ]
     },
     "execution_count": 16,
     "metadata": {},
     "output_type": "execute_result"
    }
   ],
   "source": [
    "x_rshp.reshape(2,4)"
   ]
  },
  {
   "cell_type": "code",
   "execution_count": 17,
   "metadata": {
    "colab": {
     "base_uri": "https://localhost:8080/"
    },
    "executionInfo": {
     "elapsed": 242,
     "status": "ok",
     "timestamp": 1665150856512,
     "user": {
      "displayName": "Juan Pablo García Chávez",
      "userId": "12912352804961269808"
     },
     "user_tz": 300
    },
    "id": "jTQIGi8Dt5VB",
    "outputId": "a20b1d43-cbb5-4a98-9574-eff53fb40326"
   },
   "outputs": [
    {
     "data": {
      "text/plain": [
       "array([[0, 2, 4, 6],\n",
       "       [1, 3, 5, 7]])"
      ]
     },
     "execution_count": 17,
     "metadata": {},
     "output_type": "execute_result"
    }
   ],
   "source": [
    "np.transpose(x_rshp)"
   ]
  },
  {
   "cell_type": "code",
   "execution_count": 18,
   "metadata": {
    "colab": {
     "base_uri": "https://localhost:8080/"
    },
    "executionInfo": {
     "elapsed": 217,
     "status": "ok",
     "timestamp": 1665150873796,
     "user": {
      "displayName": "Juan Pablo García Chávez",
      "userId": "12912352804961269808"
     },
     "user_tz": 300
    },
    "id": "gNnnKoQ2uakt",
    "outputId": "bf0dcd11-3a68-4318-df26-69c26baa5021"
   },
   "outputs": [
    {
     "data": {
      "text/plain": [
       "array([[0, 2, 4, 6],\n",
       "       [1, 3, 5, 7]])"
      ]
     },
     "execution_count": 18,
     "metadata": {},
     "output_type": "execute_result"
    }
   ],
   "source": [
    "x_rshp.T"
   ]
  },
  {
   "cell_type": "code",
   "execution_count": null,
   "metadata": {
    "id": "NcyN1X29ueyS"
   },
   "outputs": [],
   "source": []
  }
 ],
 "metadata": {
  "colab": {
   "authorship_tag": "ABX9TyPrTYApxWCeWpfuUNz7nGcU",
   "collapsed_sections": [],
   "provenance": []
  },
  "kernelspec": {
   "display_name": "Python 3 (ipykernel)",
   "language": "python",
   "name": "python3"
  },
  "language_info": {
   "codemirror_mode": {
    "name": "ipython",
    "version": 3
   },
   "file_extension": ".py",
   "mimetype": "text/x-python",
   "name": "python",
   "nbconvert_exporter": "python",
   "pygments_lexer": "ipython3",
   "version": "3.9.12"
  }
 },
 "nbformat": 4,
 "nbformat_minor": 1
}
